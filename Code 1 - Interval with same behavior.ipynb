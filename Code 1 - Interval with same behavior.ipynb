{
 "cells": [
  {
   "cell_type": "markdown",
   "id": "5ffc18c2",
   "metadata": {},
   "source": [
    "# Time interval Code 1\n",
    "\n",
    "1. Get the data for particular interval time (5, 15, 30 min)\n",
    "2. Create a column to tell whether it is bull or bearish\n",
    "3. Take the count whether its getting more bullish or bearish on particular interval ( ex: 9.15 - 9.20 , Bull - 30, Bearish - 40)\n",
    "4. Analyze the result based on days ( ex:- Monday,  9.15 - 9.20 , Bull - 30, Bearish - 40 )\n",
    "5. Find proper insights from this"
   ]
  },
  {
   "cell_type": "code",
   "execution_count": 30,
   "id": "eb0cdafc",
   "metadata": {},
   "outputs": [],
   "source": [
    "import pandas as pd\n",
    "\n",
    "path_to_read_csv =  \"D:/ShareMarket/Data/five_min_candle/Bank_nifty_10Years_5min_data.csv\"\n",
    "path_to_write = \"D:/ShareMarket/Data/five_min_candle/Bank_nifty_10Years_5min_formated_data.csv\"\n"
   ]
  },
  {
   "cell_type": "code",
   "execution_count": 31,
   "id": "5d0331fa",
   "metadata": {},
   "outputs": [
    {
     "data": {
      "text/html": [
       "<div>\n",
       "<style scoped>\n",
       "    .dataframe tbody tr th:only-of-type {\n",
       "        vertical-align: middle;\n",
       "    }\n",
       "\n",
       "    .dataframe tbody tr th {\n",
       "        vertical-align: top;\n",
       "    }\n",
       "\n",
       "    .dataframe thead th {\n",
       "        text-align: right;\n",
       "    }\n",
       "</style>\n",
       "<table border=\"1\" class=\"dataframe\">\n",
       "  <thead>\n",
       "    <tr style=\"text-align: right;\">\n",
       "      <th></th>\n",
       "      <th>DATE_TIME</th>\n",
       "      <th>OPEN</th>\n",
       "      <th>HIGH</th>\n",
       "      <th>LOW</th>\n",
       "      <th>CLOSE</th>\n",
       "    </tr>\n",
       "  </thead>\n",
       "  <tbody>\n",
       "    <tr>\n",
       "      <th>0</th>\n",
       "      <td>2012-11-01 09:15:00.000000015</td>\n",
       "      <td>11276.55</td>\n",
       "      <td>11276.55</td>\n",
       "      <td>11237.90</td>\n",
       "      <td>11245.30</td>\n",
       "    </tr>\n",
       "    <tr>\n",
       "      <th>1</th>\n",
       "      <td>2012-11-01 09:20:00.000000015</td>\n",
       "      <td>11248.35</td>\n",
       "      <td>11263.40</td>\n",
       "      <td>11230.20</td>\n",
       "      <td>11259.15</td>\n",
       "    </tr>\n",
       "    <tr>\n",
       "      <th>2</th>\n",
       "      <td>2012-11-01 09:25:00.000000015</td>\n",
       "      <td>11261.25</td>\n",
       "      <td>11283.80</td>\n",
       "      <td>11256.90</td>\n",
       "      <td>11282.75</td>\n",
       "    </tr>\n",
       "    <tr>\n",
       "      <th>3</th>\n",
       "      <td>2012-11-01 09:30:00.000000015</td>\n",
       "      <td>11284.55</td>\n",
       "      <td>11312.20</td>\n",
       "      <td>11284.55</td>\n",
       "      <td>11311.20</td>\n",
       "    </tr>\n",
       "    <tr>\n",
       "      <th>4</th>\n",
       "      <td>2012-11-01 09:35:00.000000015</td>\n",
       "      <td>11312.00</td>\n",
       "      <td>11314.05</td>\n",
       "      <td>11303.30</td>\n",
       "      <td>11303.60</td>\n",
       "    </tr>\n",
       "  </tbody>\n",
       "</table>\n",
       "</div>"
      ],
      "text/plain": [
       "                       DATE_TIME      OPEN      HIGH       LOW     CLOSE\n",
       "0  2012-11-01 09:15:00.000000015  11276.55  11276.55  11237.90  11245.30\n",
       "1  2012-11-01 09:20:00.000000015  11248.35  11263.40  11230.20  11259.15\n",
       "2  2012-11-01 09:25:00.000000015  11261.25  11283.80  11256.90  11282.75\n",
       "3  2012-11-01 09:30:00.000000015  11284.55  11312.20  11284.55  11311.20\n",
       "4  2012-11-01 09:35:00.000000015  11312.00  11314.05  11303.30  11303.60"
      ]
     },
     "execution_count": 31,
     "metadata": {},
     "output_type": "execute_result"
    }
   ],
   "source": [
    "df = pd.read_csv(path_to_read_csv)\n",
    "df.head()"
   ]
  },
  {
   "cell_type": "markdown",
   "id": "1966587c",
   "metadata": {},
   "source": [
    "## method 1\n",
    "1. Find whether how much value changed (from open to close)"
   ]
  },
  {
   "cell_type": "code",
   "execution_count": 32,
   "id": "902b7bcc",
   "metadata": {},
   "outputs": [],
   "source": [
    "def f(row):\n",
    "    if row['OPEN'] == row['CLOSE']:\n",
    "        val = 0\n",
    "    elif row['OPEN'] > row['CLOSE']:\n",
    "        val = row['CLOSE'] - row['OPEN']\n",
    "    else:\n",
    "        val = row['CLOSE'] - row['OPEN']\n",
    "    return val"
   ]
  },
  {
   "cell_type": "code",
   "execution_count": 33,
   "id": "e2574b63",
   "metadata": {},
   "outputs": [],
   "source": [
    "df['VALUE_CHANGE'] = df.apply(f, axis=1)\n",
    "df.head()"
   ]
  },
  {
   "cell_type": "markdown",
   "id": "f18906ea",
   "metadata": {},
   "source": [
    "## Method 2\n",
    "1. Find whether the sentiments is bullish or bearish"
   ]
  },
  {
   "cell_type": "code",
   "execution_count": 35,
   "id": "ea47bdb3",
   "metadata": {},
   "outputs": [],
   "source": [
    "def find_bearish_or_bullish(row):\n",
    "    if row['VALUE_CHANGE'] > 0:\n",
    "        val = \"Bull\"\n",
    "    else:\n",
    "        val = \"Bear\"\n",
    "    return val"
   ]
  },
  {
   "cell_type": "code",
   "execution_count": 36,
   "id": "a35793bf",
   "metadata": {},
   "outputs": [],
   "source": [
    "df['TREND'] = df.apply(find_bearish_or_bullish, axis=1)"
   ]
  },
  {
   "cell_type": "code",
   "execution_count": 37,
   "id": "828d4268",
   "metadata": {},
   "outputs": [
    {
     "data": {
      "text/html": [
       "<div>\n",
       "<style scoped>\n",
       "    .dataframe tbody tr th:only-of-type {\n",
       "        vertical-align: middle;\n",
       "    }\n",
       "\n",
       "    .dataframe tbody tr th {\n",
       "        vertical-align: top;\n",
       "    }\n",
       "\n",
       "    .dataframe thead th {\n",
       "        text-align: right;\n",
       "    }\n",
       "</style>\n",
       "<table border=\"1\" class=\"dataframe\">\n",
       "  <thead>\n",
       "    <tr style=\"text-align: right;\">\n",
       "      <th></th>\n",
       "      <th>DATE_TIME</th>\n",
       "      <th>OPEN</th>\n",
       "      <th>HIGH</th>\n",
       "      <th>LOW</th>\n",
       "      <th>CLOSE</th>\n",
       "      <th>VALUE_CHANGE</th>\n",
       "      <th>TREND</th>\n",
       "    </tr>\n",
       "  </thead>\n",
       "  <tbody>\n",
       "    <tr>\n",
       "      <th>0</th>\n",
       "      <td>2012-11-01 09:15:00.000000015</td>\n",
       "      <td>11276.55</td>\n",
       "      <td>11276.55</td>\n",
       "      <td>11237.90</td>\n",
       "      <td>11245.30</td>\n",
       "      <td>-31.25</td>\n",
       "      <td>Bear</td>\n",
       "    </tr>\n",
       "    <tr>\n",
       "      <th>1</th>\n",
       "      <td>2012-11-01 09:20:00.000000015</td>\n",
       "      <td>11248.35</td>\n",
       "      <td>11263.40</td>\n",
       "      <td>11230.20</td>\n",
       "      <td>11259.15</td>\n",
       "      <td>10.80</td>\n",
       "      <td>Bull</td>\n",
       "    </tr>\n",
       "    <tr>\n",
       "      <th>2</th>\n",
       "      <td>2012-11-01 09:25:00.000000015</td>\n",
       "      <td>11261.25</td>\n",
       "      <td>11283.80</td>\n",
       "      <td>11256.90</td>\n",
       "      <td>11282.75</td>\n",
       "      <td>21.50</td>\n",
       "      <td>Bull</td>\n",
       "    </tr>\n",
       "    <tr>\n",
       "      <th>3</th>\n",
       "      <td>2012-11-01 09:30:00.000000015</td>\n",
       "      <td>11284.55</td>\n",
       "      <td>11312.20</td>\n",
       "      <td>11284.55</td>\n",
       "      <td>11311.20</td>\n",
       "      <td>26.65</td>\n",
       "      <td>Bull</td>\n",
       "    </tr>\n",
       "    <tr>\n",
       "      <th>4</th>\n",
       "      <td>2012-11-01 09:35:00.000000015</td>\n",
       "      <td>11312.00</td>\n",
       "      <td>11314.05</td>\n",
       "      <td>11303.30</td>\n",
       "      <td>11303.60</td>\n",
       "      <td>-8.40</td>\n",
       "      <td>Bear</td>\n",
       "    </tr>\n",
       "  </tbody>\n",
       "</table>\n",
       "</div>"
      ],
      "text/plain": [
       "                       DATE_TIME      OPEN      HIGH       LOW     CLOSE  \\\n",
       "0  2012-11-01 09:15:00.000000015  11276.55  11276.55  11237.90  11245.30   \n",
       "1  2012-11-01 09:20:00.000000015  11248.35  11263.40  11230.20  11259.15   \n",
       "2  2012-11-01 09:25:00.000000015  11261.25  11283.80  11256.90  11282.75   \n",
       "3  2012-11-01 09:30:00.000000015  11284.55  11312.20  11284.55  11311.20   \n",
       "4  2012-11-01 09:35:00.000000015  11312.00  11314.05  11303.30  11303.60   \n",
       "\n",
       "   VALUE_CHANGE TREND  \n",
       "0        -31.25  Bear  \n",
       "1         10.80  Bull  \n",
       "2         21.50  Bull  \n",
       "3         26.65  Bull  \n",
       "4         -8.40  Bear  "
      ]
     },
     "execution_count": 37,
     "metadata": {},
     "output_type": "execute_result"
    }
   ],
   "source": [
    "df.head()"
   ]
  },
  {
   "cell_type": "markdown",
   "id": "0845f6e9",
   "metadata": {},
   "source": [
    "## Method 3\n",
    "1. Add day (monday,tuesday etc)"
   ]
  },
  {
   "cell_type": "code",
   "execution_count": 38,
   "id": "3d1205cf",
   "metadata": {},
   "outputs": [],
   "source": [
    "import datetime\n",
    "import calendar\n",
    " \n",
    "def findDay(row):\n",
    "    born = datetime.datetime.strptime(row['DATE_TIME'].split(' ')[0], '%Y-%m-%d').weekday()\n",
    "    return (calendar.day_name[born])"
   ]
  },
  {
   "cell_type": "code",
   "execution_count": 39,
   "id": "07bba0fc",
   "metadata": {},
   "outputs": [],
   "source": [
    "df['Day'] = df.apply(findDay, axis=1)"
   ]
  },
  {
   "cell_type": "code",
   "execution_count": 40,
   "id": "30bf798a",
   "metadata": {},
   "outputs": [
    {
     "data": {
      "text/html": [
       "<div>\n",
       "<style scoped>\n",
       "    .dataframe tbody tr th:only-of-type {\n",
       "        vertical-align: middle;\n",
       "    }\n",
       "\n",
       "    .dataframe tbody tr th {\n",
       "        vertical-align: top;\n",
       "    }\n",
       "\n",
       "    .dataframe thead th {\n",
       "        text-align: right;\n",
       "    }\n",
       "</style>\n",
       "<table border=\"1\" class=\"dataframe\">\n",
       "  <thead>\n",
       "    <tr style=\"text-align: right;\">\n",
       "      <th></th>\n",
       "      <th>DATE_TIME</th>\n",
       "      <th>OPEN</th>\n",
       "      <th>HIGH</th>\n",
       "      <th>LOW</th>\n",
       "      <th>CLOSE</th>\n",
       "      <th>VALUE_CHANGE</th>\n",
       "      <th>TREND</th>\n",
       "      <th>Day</th>\n",
       "    </tr>\n",
       "  </thead>\n",
       "  <tbody>\n",
       "    <tr>\n",
       "      <th>0</th>\n",
       "      <td>2012-11-01 09:15:00.000000015</td>\n",
       "      <td>11276.55</td>\n",
       "      <td>11276.55</td>\n",
       "      <td>11237.90</td>\n",
       "      <td>11245.30</td>\n",
       "      <td>-31.25</td>\n",
       "      <td>Bear</td>\n",
       "      <td>Thursday</td>\n",
       "    </tr>\n",
       "    <tr>\n",
       "      <th>1</th>\n",
       "      <td>2012-11-01 09:20:00.000000015</td>\n",
       "      <td>11248.35</td>\n",
       "      <td>11263.40</td>\n",
       "      <td>11230.20</td>\n",
       "      <td>11259.15</td>\n",
       "      <td>10.80</td>\n",
       "      <td>Bull</td>\n",
       "      <td>Thursday</td>\n",
       "    </tr>\n",
       "    <tr>\n",
       "      <th>2</th>\n",
       "      <td>2012-11-01 09:25:00.000000015</td>\n",
       "      <td>11261.25</td>\n",
       "      <td>11283.80</td>\n",
       "      <td>11256.90</td>\n",
       "      <td>11282.75</td>\n",
       "      <td>21.50</td>\n",
       "      <td>Bull</td>\n",
       "      <td>Thursday</td>\n",
       "    </tr>\n",
       "    <tr>\n",
       "      <th>3</th>\n",
       "      <td>2012-11-01 09:30:00.000000015</td>\n",
       "      <td>11284.55</td>\n",
       "      <td>11312.20</td>\n",
       "      <td>11284.55</td>\n",
       "      <td>11311.20</td>\n",
       "      <td>26.65</td>\n",
       "      <td>Bull</td>\n",
       "      <td>Thursday</td>\n",
       "    </tr>\n",
       "    <tr>\n",
       "      <th>4</th>\n",
       "      <td>2012-11-01 09:35:00.000000015</td>\n",
       "      <td>11312.00</td>\n",
       "      <td>11314.05</td>\n",
       "      <td>11303.30</td>\n",
       "      <td>11303.60</td>\n",
       "      <td>-8.40</td>\n",
       "      <td>Bear</td>\n",
       "      <td>Thursday</td>\n",
       "    </tr>\n",
       "  </tbody>\n",
       "</table>\n",
       "</div>"
      ],
      "text/plain": [
       "                       DATE_TIME      OPEN      HIGH       LOW     CLOSE  \\\n",
       "0  2012-11-01 09:15:00.000000015  11276.55  11276.55  11237.90  11245.30   \n",
       "1  2012-11-01 09:20:00.000000015  11248.35  11263.40  11230.20  11259.15   \n",
       "2  2012-11-01 09:25:00.000000015  11261.25  11283.80  11256.90  11282.75   \n",
       "3  2012-11-01 09:30:00.000000015  11284.55  11312.20  11284.55  11311.20   \n",
       "4  2012-11-01 09:35:00.000000015  11312.00  11314.05  11303.30  11303.60   \n",
       "\n",
       "   VALUE_CHANGE TREND       Day  \n",
       "0        -31.25  Bear  Thursday  \n",
       "1         10.80  Bull  Thursday  \n",
       "2         21.50  Bull  Thursday  \n",
       "3         26.65  Bull  Thursday  \n",
       "4         -8.40  Bear  Thursday  "
      ]
     },
     "execution_count": 40,
     "metadata": {},
     "output_type": "execute_result"
    }
   ],
   "source": [
    "df.head()"
   ]
  },
  {
   "cell_type": "code",
   "execution_count": 41,
   "id": "5062fb78",
   "metadata": {},
   "outputs": [],
   "source": [
    "df.to_csv(path_to_write, index = False)"
   ]
  },
  {
   "cell_type": "code",
   "execution_count": null,
   "id": "f587fa08",
   "metadata": {},
   "outputs": [],
   "source": []
  }
 ],
 "metadata": {
  "kernelspec": {
   "display_name": "Python 3",
   "language": "python",
   "name": "python3"
  },
  "language_info": {
   "codemirror_mode": {
    "name": "ipython",
    "version": 3
   },
   "file_extension": ".py",
   "mimetype": "text/x-python",
   "name": "python",
   "nbconvert_exporter": "python",
   "pygments_lexer": "ipython3",
   "version": "3.9.4"
  }
 },
 "nbformat": 4,
 "nbformat_minor": 5
}
