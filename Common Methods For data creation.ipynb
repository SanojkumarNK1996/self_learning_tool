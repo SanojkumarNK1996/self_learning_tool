{
 "cells": [
  {
   "cell_type": "markdown",
   "id": "9c172172",
   "metadata": {},
   "source": [
    "## Create banknifty datasets for programming\n",
    "1. Download the data from internet, Test it once before finalizing the source\n",
    "2. I used https://tradingtuitions.com/intraday-1-minute-data-free-download/ to get the data\n",
    "3. Tested data with in.tradingview graph (one minute slight difference is there)\n",
    "4. Downloaded the zip, created a folder conolidated banknifty which contains only data from 2013 - 2021"
   ]
  },
  {
   "cell_type": "markdown",
   "id": "8f1295fd",
   "metadata": {},
   "source": [
    "### Pseudocode\n",
    "* Create a method which inserts the data into an excel sheet\n",
    "* Go to the folder\n",
    "* Read one by one files\n",
    "* Split the data based on comma\n",
    "* insert the data into the excel\n",
    "* Sort the data based on date, so that we can create proper analysis\n",
    "* Write the data into the folder. So that next time we can use the same file"
   ]
  },
  {
   "cell_type": "code",
   "execution_count": 30,
   "id": "47cd4e9e",
   "metadata": {},
   "outputs": [],
   "source": [
    "import os\n",
    "import pandas as pd\n",
    "\n",
    "path = \"D:\\ShareMarket\\Data\\Intraday 1 Min Data\\Intraday 1 Min Data\\Consolidated Banknifty\"\n",
    "path_to_write = \"D:\\ShareMarket\\Data\\Intraday 1 Min Data\\Intraday 1 Min Data\\Consolidated_Banknifty.txt\"\n",
    "path_to_write_csv = \"D:\\ShareMarket\\Data\\Intraday 1 Min Data\\Intraday 1 Min Data\\Consolidated_Banknifty.csv\"\n",
    "\n",
    "def convert_dataset_to_excel():\n",
    "    os.chdir(path)\n",
    "    consolidated_text_file = \"\"\n",
    "    # iterate through all file\n",
    "    for file in os.listdir():\n",
    "        if file.endswith(\".txt\"):\n",
    "            file_path = f\"{path}\\{file}\"\n",
    "            \n",
    "            consolidated_text_file = consolidated_text_file + read_text_file(file_path)\n",
    "    \n",
    "    file1 = open(path_to_write,\"w\")\n",
    "    file1.writelines(consolidated_text_file)\n",
    "    file1.close()\n",
    "    \n",
    "    dataframe1 = pd.read_csv(path_to_write, usecols =[0,1,2,3,4,5,6])\n",
    "    return dataframe1\n",
    "    "
   ]
  },
  {
   "cell_type": "code",
   "execution_count": 31,
   "id": "375afceb",
   "metadata": {},
   "outputs": [],
   "source": [
    "def read_text_file(file_path):\n",
    "    with open(file_path, 'r') as f:\n",
    "        return f.read()"
   ]
  },
  {
   "cell_type": "code",
   "execution_count": 32,
   "id": "28b4cca8",
   "metadata": {},
   "outputs": [
    {
     "name": "stdout",
     "output_type": "stream",
     "text": [
      "-- finished\n"
     ]
    }
   ],
   "source": [
    "dataframe1 = convert_dataset_to_excel()\n",
    "print(\"-- finished\")"
   ]
  },
  {
   "cell_type": "code",
   "execution_count": 33,
   "id": "091c6cbe",
   "metadata": {},
   "outputs": [
    {
     "data": {
      "text/plain": [
       "832233"
      ]
     },
     "execution_count": 33,
     "metadata": {},
     "output_type": "execute_result"
    }
   ],
   "source": [
    "len(dataframe1)"
   ]
  },
  {
   "cell_type": "code",
   "execution_count": 34,
   "id": "c1d7ace2",
   "metadata": {},
   "outputs": [],
   "source": [
    "headerList = ['TYPE', 'DATE', 'TIME', \"OPEN\", \"HIGH\", \"LOW\" ,\"CLOSE\"]\n",
    "dataframe1.to_csv(path_to_write_csv, header=headerList, index=False)"
   ]
  },
  {
   "cell_type": "markdown",
   "id": "6ffde11e",
   "metadata": {},
   "source": [
    "## Converting the date field into proper date format"
   ]
  },
  {
   "cell_type": "code",
   "execution_count": 35,
   "id": "be76d54b",
   "metadata": {},
   "outputs": [],
   "source": [
    "import pandas as pd\n",
    "\n",
    "path_to_read_csv =  \"D:\\ShareMarket\\Data\\Intraday 1 Min Data\\Intraday 1 Min Data\\Consolidated_Banknifty.csv\"\n",
    "path_to_write_csv = \"D:\\ShareMarket\\Data\\Intraday 1 Min Data\\Intraday 1 Min Data\\Consolidated_Banknifty_with_date.csv\"\n",
    "\n",
    "df = pd.read_csv(path_to_read_csv)"
   ]
  },
  {
   "cell_type": "code",
   "execution_count": 36,
   "id": "d8fe6eea",
   "metadata": {},
   "outputs": [
    {
     "name": "stdout",
     "output_type": "stream",
     "text": [
      "        TYPE      DATE   TIME      OPEN      HIGH       LOW     CLOSE\n",
      "0  BANKNIFTY  20121203  09:17  12161.75  12164.80  12130.40  12130.40\n",
      "1  BANKNIFTY  20121203  09:18  12126.85  12156.10  12126.85  12156.10\n",
      "2  BANKNIFTY  20121203  09:19  12157.25  12164.75  12151.60  12164.20\n",
      "3  BANKNIFTY  20121203  09:20  12162.80  12162.80  12148.20  12151.15\n",
      "4  BANKNIFTY  20121203  09:21  12152.95  12159.90  12151.90  12158.15\n"
     ]
    }
   ],
   "source": [
    "print(df.head()) "
   ]
  },
  {
   "cell_type": "code",
   "execution_count": 37,
   "id": "88a25d96",
   "metadata": {},
   "outputs": [],
   "source": [
    "df['DATE'] = df['DATE'].apply(lambda x: pd.to_datetime(str(x), format='%Y%m%d'))"
   ]
  },
  {
   "cell_type": "code",
   "execution_count": 38,
   "id": "c3099f5d",
   "metadata": {},
   "outputs": [
    {
     "name": "stdout",
     "output_type": "stream",
     "text": [
      "        TYPE       DATE   TIME      OPEN      HIGH       LOW     CLOSE\n",
      "0  BANKNIFTY 2012-12-03  09:17  12161.75  12164.80  12130.40  12130.40\n",
      "1  BANKNIFTY 2012-12-03  09:18  12126.85  12156.10  12126.85  12156.10\n",
      "2  BANKNIFTY 2012-12-03  09:19  12157.25  12164.75  12151.60  12164.20\n",
      "3  BANKNIFTY 2012-12-03  09:20  12162.80  12162.80  12148.20  12151.15\n",
      "4  BANKNIFTY 2012-12-03  09:21  12152.95  12159.90  12151.90  12158.15\n"
     ]
    }
   ],
   "source": [
    "print(df.head()) "
   ]
  },
  {
   "cell_type": "code",
   "execution_count": 39,
   "id": "de1b1613",
   "metadata": {},
   "outputs": [],
   "source": [
    "headerList = ['TYPE', 'DATE', 'TIME', \"OPEN\", \"HIGH\", \"LOW\" ,\"CLOSE\"]\n",
    "df.to_csv(path_to_write_csv, header=headerList, index=False)"
   ]
  },
  {
   "cell_type": "markdown",
   "id": "6b6a9b1a",
   "metadata": {},
   "source": [
    "## Sort the Date for proper analysis"
   ]
  },
  {
   "cell_type": "code",
   "execution_count": 40,
   "id": "11926be4",
   "metadata": {},
   "outputs": [],
   "source": [
    "import pandas as pd\n",
    "\n",
    "path_to_read_csv = \"D:\\ShareMarket\\Data\\Intraday 1 Min Data\\Intraday 1 Min Data\\Consolidated_Banknifty_with_date.csv\"\n",
    "path_to_write_csv = \"D:\\ShareMarket\\Data\\Intraday 1 Min Data\\Intraday 1 Min Data\\Consolidated_Banknifty_sorted.csv\"\n",
    "\n",
    "df = pd.read_csv(path_to_read_csv)"
   ]
  },
  {
   "cell_type": "code",
   "execution_count": 41,
   "id": "d768a585",
   "metadata": {},
   "outputs": [],
   "source": [
    "rslt_df = df.sort_values(by = ['DATE', 'TIME'])"
   ]
  },
  {
   "cell_type": "code",
   "execution_count": 42,
   "id": "4ba229dc",
   "metadata": {},
   "outputs": [
    {
     "data": {
      "text/html": [
       "<div>\n",
       "<style scoped>\n",
       "    .dataframe tbody tr th:only-of-type {\n",
       "        vertical-align: middle;\n",
       "    }\n",
       "\n",
       "    .dataframe tbody tr th {\n",
       "        vertical-align: top;\n",
       "    }\n",
       "\n",
       "    .dataframe thead th {\n",
       "        text-align: right;\n",
       "    }\n",
       "</style>\n",
       "<table border=\"1\" class=\"dataframe\">\n",
       "  <thead>\n",
       "    <tr style=\"text-align: right;\">\n",
       "      <th></th>\n",
       "      <th>TYPE</th>\n",
       "      <th>DATE</th>\n",
       "      <th>TIME</th>\n",
       "      <th>OPEN</th>\n",
       "      <th>HIGH</th>\n",
       "      <th>LOW</th>\n",
       "      <th>CLOSE</th>\n",
       "    </tr>\n",
       "  </thead>\n",
       "  <tbody>\n",
       "    <tr>\n",
       "      <th>7499</th>\n",
       "      <td>BANKNIFTY</td>\n",
       "      <td>2012-11-01</td>\n",
       "      <td>09:16</td>\n",
       "      <td>11276.55</td>\n",
       "      <td>11276.55</td>\n",
       "      <td>11265.80</td>\n",
       "      <td>11268.90</td>\n",
       "    </tr>\n",
       "    <tr>\n",
       "      <th>7500</th>\n",
       "      <td>BANKNIFTY</td>\n",
       "      <td>2012-11-01</td>\n",
       "      <td>09:17</td>\n",
       "      <td>11267.95</td>\n",
       "      <td>11267.95</td>\n",
       "      <td>11258.85</td>\n",
       "      <td>11260.05</td>\n",
       "    </tr>\n",
       "    <tr>\n",
       "      <th>7501</th>\n",
       "      <td>BANKNIFTY</td>\n",
       "      <td>2012-11-01</td>\n",
       "      <td>09:18</td>\n",
       "      <td>11259.45</td>\n",
       "      <td>11259.45</td>\n",
       "      <td>11243.90</td>\n",
       "      <td>11243.90</td>\n",
       "    </tr>\n",
       "    <tr>\n",
       "      <th>7502</th>\n",
       "      <td>BANKNIFTY</td>\n",
       "      <td>2012-11-01</td>\n",
       "      <td>09:19</td>\n",
       "      <td>11246.50</td>\n",
       "      <td>11246.60</td>\n",
       "      <td>11237.90</td>\n",
       "      <td>11238.90</td>\n",
       "    </tr>\n",
       "    <tr>\n",
       "      <th>7503</th>\n",
       "      <td>BANKNIFTY</td>\n",
       "      <td>2012-11-01</td>\n",
       "      <td>09:20</td>\n",
       "      <td>11241.15</td>\n",
       "      <td>11247.20</td>\n",
       "      <td>11239.30</td>\n",
       "      <td>11245.30</td>\n",
       "    </tr>\n",
       "  </tbody>\n",
       "</table>\n",
       "</div>"
      ],
      "text/plain": [
       "           TYPE        DATE   TIME      OPEN      HIGH       LOW     CLOSE\n",
       "7499  BANKNIFTY  2012-11-01  09:16  11276.55  11276.55  11265.80  11268.90\n",
       "7500  BANKNIFTY  2012-11-01  09:17  11267.95  11267.95  11258.85  11260.05\n",
       "7501  BANKNIFTY  2012-11-01  09:18  11259.45  11259.45  11243.90  11243.90\n",
       "7502  BANKNIFTY  2012-11-01  09:19  11246.50  11246.60  11237.90  11238.90\n",
       "7503  BANKNIFTY  2012-11-01  09:20  11241.15  11247.20  11239.30  11245.30"
      ]
     },
     "execution_count": 42,
     "metadata": {},
     "output_type": "execute_result"
    }
   ],
   "source": [
    "rslt_df.head()"
   ]
  },
  {
   "cell_type": "code",
   "execution_count": 43,
   "id": "60e0cd51",
   "metadata": {},
   "outputs": [],
   "source": [
    "headerList = ['TYPE', 'DATE', 'TIME', \"OPEN\", \"HIGH\", \"LOW\" ,\"CLOSE\"]\n",
    "rslt_df.to_csv(path_to_write_csv, header=headerList, index=False)"
   ]
  },
  {
   "cell_type": "code",
   "execution_count": null,
   "id": "a7229e38",
   "metadata": {},
   "outputs": [],
   "source": []
  }
 ],
 "metadata": {
  "kernelspec": {
   "display_name": "Python 3",
   "language": "python",
   "name": "python3"
  },
  "language_info": {
   "codemirror_mode": {
    "name": "ipython",
    "version": 3
   },
   "file_extension": ".py",
   "mimetype": "text/x-python",
   "name": "python",
   "nbconvert_exporter": "python",
   "pygments_lexer": "ipython3",
   "version": "3.9.4"
  }
 },
 "nbformat": 4,
 "nbformat_minor": 5
}
