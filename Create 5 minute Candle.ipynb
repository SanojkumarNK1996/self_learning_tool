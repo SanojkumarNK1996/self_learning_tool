{
 "cells": [
  {
   "cell_type": "markdown",
   "id": "f76c8e19",
   "metadata": {},
   "source": [
    "# To create Dataset with different time frames (5, 10, 15 minutes etc)\n",
    "\n",
    "1. Read the csv\n",
    "2. Convert the date and time field to date_time (this is more convenient to use)\n",
    "3. Resample the data (convert data into 5min, 10min, 30min etc)\n",
    "4. Remove the records with empty data\n",
    "5. Verify the data with proper data manually\n",
    "\n",
    "## Limitation\n",
    "* it is working only for 5 and 15 minutes\n",
    "* In 10 minutes we are not able to plot the data starting from 9.15, it is starting from 9.10 (not correct)"
   ]
  },
  {
   "cell_type": "code",
   "execution_count": 62,
   "id": "7485f1e7",
   "metadata": {},
   "outputs": [],
   "source": [
    "import pandas as pd\n",
    "\n",
    "path_to_read_csv =  \"D:/ShareMarket/Data/Intraday 1 Min Data/Intraday 1 Min Data/Consolidated_Banknifty_sorted.csv\"\n",
    "path_to_write = \"D:/ShareMarket/Data/five_min_candle/Bank_nifty_10Years_15min_data.csv\"\n",
    "time_frame = \"15min\""
   ]
  },
  {
   "cell_type": "code",
   "execution_count": 63,
   "id": "617d8cf6",
   "metadata": {},
   "outputs": [],
   "source": [
    "df = pd.read_csv(path_to_read_csv,  usecols=[\"DATE\",\"TIME\",\"OPEN\",\"HIGH\",\"LOW\",\"CLOSE\"], \n",
    "                 parse_dates=[[\"DATE\",\"TIME\"]], index_col=['DATE_TIME'])"
   ]
  },
  {
   "cell_type": "code",
   "execution_count": 64,
   "id": "914e2081",
   "metadata": {},
   "outputs": [
    {
     "name": "stdout",
     "output_type": "stream",
     "text": [
      "                         OPEN      HIGH       LOW     CLOSE\n",
      "DATE_TIME                                                  \n",
      "2012-11-01 09:16:00  11276.55  11276.55  11265.80  11268.90\n",
      "2012-11-01 09:17:00  11267.95  11267.95  11258.85  11260.05\n",
      "2012-11-01 09:18:00  11259.45  11259.45  11243.90  11243.90\n",
      "2012-11-01 09:19:00  11246.50  11246.60  11237.90  11238.90\n",
      "2012-11-01 09:20:00  11241.15  11247.20  11239.30  11245.30\n"
     ]
    }
   ],
   "source": [
    "print(df.head()) "
   ]
  },
  {
   "cell_type": "code",
   "execution_count": 65,
   "id": "73156566",
   "metadata": {},
   "outputs": [
    {
     "data": {
      "text/html": [
       "<div>\n",
       "<style scoped>\n",
       "    .dataframe tbody tr th:only-of-type {\n",
       "        vertical-align: middle;\n",
       "    }\n",
       "\n",
       "    .dataframe tbody tr th {\n",
       "        vertical-align: top;\n",
       "    }\n",
       "\n",
       "    .dataframe thead th {\n",
       "        text-align: right;\n",
       "    }\n",
       "</style>\n",
       "<table border=\"1\" class=\"dataframe\">\n",
       "  <thead>\n",
       "    <tr style=\"text-align: right;\">\n",
       "      <th></th>\n",
       "      <th>OPEN</th>\n",
       "      <th>HIGH</th>\n",
       "      <th>LOW</th>\n",
       "      <th>CLOSE</th>\n",
       "    </tr>\n",
       "    <tr>\n",
       "      <th>DATE_TIME</th>\n",
       "      <th></th>\n",
       "      <th></th>\n",
       "      <th></th>\n",
       "      <th></th>\n",
       "    </tr>\n",
       "  </thead>\n",
       "  <tbody>\n",
       "    <tr>\n",
       "      <th>2012-11-01 09:16:00</th>\n",
       "      <td>11276.55</td>\n",
       "      <td>11276.55</td>\n",
       "      <td>11265.80</td>\n",
       "      <td>11268.90</td>\n",
       "    </tr>\n",
       "    <tr>\n",
       "      <th>2012-11-01 09:17:00</th>\n",
       "      <td>11267.95</td>\n",
       "      <td>11267.95</td>\n",
       "      <td>11258.85</td>\n",
       "      <td>11260.05</td>\n",
       "    </tr>\n",
       "    <tr>\n",
       "      <th>2012-11-01 09:18:00</th>\n",
       "      <td>11259.45</td>\n",
       "      <td>11259.45</td>\n",
       "      <td>11243.90</td>\n",
       "      <td>11243.90</td>\n",
       "    </tr>\n",
       "    <tr>\n",
       "      <th>2012-11-01 09:19:00</th>\n",
       "      <td>11246.50</td>\n",
       "      <td>11246.60</td>\n",
       "      <td>11237.90</td>\n",
       "      <td>11238.90</td>\n",
       "    </tr>\n",
       "    <tr>\n",
       "      <th>2012-11-01 09:20:00</th>\n",
       "      <td>11241.15</td>\n",
       "      <td>11247.20</td>\n",
       "      <td>11239.30</td>\n",
       "      <td>11245.30</td>\n",
       "    </tr>\n",
       "    <tr>\n",
       "      <th>...</th>\n",
       "      <td>...</td>\n",
       "      <td>...</td>\n",
       "      <td>...</td>\n",
       "      <td>...</td>\n",
       "    </tr>\n",
       "    <tr>\n",
       "      <th>2021-10-29 15:26:00</th>\n",
       "      <td>39184.80</td>\n",
       "      <td>39206.25</td>\n",
       "      <td>39183.95</td>\n",
       "      <td>39204.45</td>\n",
       "    </tr>\n",
       "    <tr>\n",
       "      <th>2021-10-29 15:27:00</th>\n",
       "      <td>39206.15</td>\n",
       "      <td>39247.40</td>\n",
       "      <td>39203.55</td>\n",
       "      <td>39247.40</td>\n",
       "    </tr>\n",
       "    <tr>\n",
       "      <th>2021-10-29 15:28:00</th>\n",
       "      <td>39249.60</td>\n",
       "      <td>39255.45</td>\n",
       "      <td>39236.10</td>\n",
       "      <td>39239.40</td>\n",
       "    </tr>\n",
       "    <tr>\n",
       "      <th>2021-10-29 15:29:00</th>\n",
       "      <td>39243.75</td>\n",
       "      <td>39255.85</td>\n",
       "      <td>39235.25</td>\n",
       "      <td>39248.75</td>\n",
       "    </tr>\n",
       "    <tr>\n",
       "      <th>2021-10-29 15:30:00</th>\n",
       "      <td>39254.80</td>\n",
       "      <td>39280.50</td>\n",
       "      <td>39246.55</td>\n",
       "      <td>39270.55</td>\n",
       "    </tr>\n",
       "  </tbody>\n",
       "</table>\n",
       "<p>828436 rows × 4 columns</p>\n",
       "</div>"
      ],
      "text/plain": [
       "                         OPEN      HIGH       LOW     CLOSE\n",
       "DATE_TIME                                                  \n",
       "2012-11-01 09:16:00  11276.55  11276.55  11265.80  11268.90\n",
       "2012-11-01 09:17:00  11267.95  11267.95  11258.85  11260.05\n",
       "2012-11-01 09:18:00  11259.45  11259.45  11243.90  11243.90\n",
       "2012-11-01 09:19:00  11246.50  11246.60  11237.90  11238.90\n",
       "2012-11-01 09:20:00  11241.15  11247.20  11239.30  11245.30\n",
       "...                       ...       ...       ...       ...\n",
       "2021-10-29 15:26:00  39184.80  39206.25  39183.95  39204.45\n",
       "2021-10-29 15:27:00  39206.15  39247.40  39203.55  39247.40\n",
       "2021-10-29 15:28:00  39249.60  39255.45  39236.10  39239.40\n",
       "2021-10-29 15:29:00  39243.75  39255.85  39235.25  39248.75\n",
       "2021-10-29 15:30:00  39254.80  39280.50  39246.55  39270.55\n",
       "\n",
       "[828436 rows x 4 columns]"
      ]
     },
     "execution_count": 65,
     "metadata": {},
     "output_type": "execute_result"
    }
   ],
   "source": [
    "import datetime as dt\n",
    "df.between_time('09:15', '15:30')"
   ]
  },
  {
   "cell_type": "code",
   "execution_count": null,
   "id": "56d6ddd3",
   "metadata": {},
   "outputs": [],
   "source": [
    "# df[(df.DATE_TIME < '2016-12-02 22:00:00') | (df.b > '2016-12-03 00:00:00')]"
   ]
  },
  {
   "cell_type": "code",
   "execution_count": 66,
   "id": "f3de7ce8",
   "metadata": {},
   "outputs": [
    {
     "data": {
      "text/html": [
       "<div>\n",
       "<style scoped>\n",
       "    .dataframe tbody tr th:only-of-type {\n",
       "        vertical-align: middle;\n",
       "    }\n",
       "\n",
       "    .dataframe tbody tr th {\n",
       "        vertical-align: top;\n",
       "    }\n",
       "\n",
       "    .dataframe thead th {\n",
       "        text-align: right;\n",
       "    }\n",
       "</style>\n",
       "<table border=\"1\" class=\"dataframe\">\n",
       "  <thead>\n",
       "    <tr style=\"text-align: right;\">\n",
       "      <th></th>\n",
       "      <th>OPEN</th>\n",
       "      <th>HIGH</th>\n",
       "      <th>LOW</th>\n",
       "      <th>CLOSE</th>\n",
       "    </tr>\n",
       "    <tr>\n",
       "      <th>DATE_TIME</th>\n",
       "      <th></th>\n",
       "      <th></th>\n",
       "      <th></th>\n",
       "      <th></th>\n",
       "    </tr>\n",
       "  </thead>\n",
       "  <tbody>\n",
       "    <tr>\n",
       "      <th>2012-11-01 09:15:00.000000015</th>\n",
       "      <td>11276.55</td>\n",
       "      <td>11283.80</td>\n",
       "      <td>11230.20</td>\n",
       "      <td>11282.75</td>\n",
       "    </tr>\n",
       "    <tr>\n",
       "      <th>2012-11-01 09:30:00.000000015</th>\n",
       "      <td>11284.55</td>\n",
       "      <td>11314.05</td>\n",
       "      <td>11284.55</td>\n",
       "      <td>11303.10</td>\n",
       "    </tr>\n",
       "    <tr>\n",
       "      <th>2012-11-01 09:45:00.000000015</th>\n",
       "      <td>11301.00</td>\n",
       "      <td>11320.65</td>\n",
       "      <td>11300.65</td>\n",
       "      <td>11304.95</td>\n",
       "    </tr>\n",
       "    <tr>\n",
       "      <th>2012-11-01 10:00:00.000000015</th>\n",
       "      <td>11305.20</td>\n",
       "      <td>11305.85</td>\n",
       "      <td>11285.55</td>\n",
       "      <td>11290.40</td>\n",
       "    </tr>\n",
       "    <tr>\n",
       "      <th>2012-11-01 10:15:00.000000015</th>\n",
       "      <td>11291.55</td>\n",
       "      <td>11300.10</td>\n",
       "      <td>11273.10</td>\n",
       "      <td>11276.60</td>\n",
       "    </tr>\n",
       "  </tbody>\n",
       "</table>\n",
       "</div>"
      ],
      "text/plain": [
       "                                   OPEN      HIGH       LOW     CLOSE\n",
       "DATE_TIME                                                            \n",
       "2012-11-01 09:15:00.000000015  11276.55  11283.80  11230.20  11282.75\n",
       "2012-11-01 09:30:00.000000015  11284.55  11314.05  11284.55  11303.10\n",
       "2012-11-01 09:45:00.000000015  11301.00  11320.65  11300.65  11304.95\n",
       "2012-11-01 10:00:00.000000015  11305.20  11305.85  11285.55  11290.40\n",
       "2012-11-01 10:15:00.000000015  11291.55  11300.10  11273.10  11276.60"
      ]
     },
     "execution_count": 66,
     "metadata": {},
     "output_type": "execute_result"
    }
   ],
   "source": [
    "ohlc = {\n",
    "    'OPEN': 'first',\n",
    "    'HIGH': 'max',\n",
    "    'LOW': 'min',\n",
    "    'CLOSE': 'last'\n",
    "}\n",
    "\n",
    "df = df.resample(time_frame, origin=15).apply(ohlc)\n",
    "\n",
    "df.head()"
   ]
  },
  {
   "cell_type": "code",
   "execution_count": 67,
   "id": "4836514d",
   "metadata": {},
   "outputs": [
    {
     "data": {
      "text/plain": [
       "315290"
      ]
     },
     "execution_count": 67,
     "metadata": {},
     "output_type": "execute_result"
    }
   ],
   "source": [
    "len(df)"
   ]
  },
  {
   "cell_type": "code",
   "execution_count": 68,
   "id": "30353314",
   "metadata": {},
   "outputs": [],
   "source": [
    "df = df[df['OPEN'] > 0]"
   ]
  },
  {
   "cell_type": "code",
   "execution_count": 69,
   "id": "61feeb76",
   "metadata": {},
   "outputs": [
    {
     "data": {
      "text/plain": [
       "57176"
      ]
     },
     "execution_count": 69,
     "metadata": {},
     "output_type": "execute_result"
    }
   ],
   "source": [
    "len(df)"
   ]
  },
  {
   "cell_type": "code",
   "execution_count": 70,
   "id": "a54a44f3",
   "metadata": {},
   "outputs": [],
   "source": [
    "df.to_csv(path_to_write)"
   ]
  },
  {
   "cell_type": "code",
   "execution_count": null,
   "id": "22257b32",
   "metadata": {},
   "outputs": [],
   "source": []
  }
 ],
 "metadata": {
  "kernelspec": {
   "display_name": "Python 3",
   "language": "python",
   "name": "python3"
  },
  "language_info": {
   "codemirror_mode": {
    "name": "ipython",
    "version": 3
   },
   "file_extension": ".py",
   "mimetype": "text/x-python",
   "name": "python",
   "nbconvert_exporter": "python",
   "pygments_lexer": "ipython3",
   "version": "3.9.4"
  }
 },
 "nbformat": 4,
 "nbformat_minor": 5
}
