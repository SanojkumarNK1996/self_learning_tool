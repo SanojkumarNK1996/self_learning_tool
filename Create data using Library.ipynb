{
 "cells": [
  {
   "cell_type": "code",
   "execution_count": 5,
   "id": "a63cbafc",
   "metadata": {},
   "outputs": [
    {
     "name": "stdout",
     "output_type": "stream",
     "text": [
      "Collecting plotlyNote: you may need to restart the kernel to use updated packages.\n"
     ]
    },
    {
     "name": "stderr",
     "output_type": "stream",
     "text": [
      "WARNING: You are using pip version 20.2.3; however, version 21.3.1 is available.\n",
      "You should consider upgrading via the 'c:\\users\\sanoj\\appdata\\local\\programs\\python\\python39\\python.exe -m pip install --upgrade pip' command.\n"
     ]
    },
    {
     "name": "stdout",
     "output_type": "stream",
     "text": [
      "\n",
      "  Downloading plotly-5.5.0-py2.py3-none-any.whl (26.5 MB)\n",
      "Collecting tenacity>=6.2.0\n",
      "  Downloading tenacity-8.0.1-py3-none-any.whl (24 kB)\n",
      "Requirement already satisfied: six in c:\\users\\sanoj\\appdata\\local\\programs\\python\\python39\\lib\\site-packages (from plotly) (1.15.0)\n",
      "Installing collected packages: tenacity, plotly\n",
      "Successfully installed plotly-5.5.0 tenacity-8.0.1\n"
     ]
    }
   ],
   "source": [
    "pip install plotly"
   ]
  },
  {
   "cell_type": "code",
   "execution_count": 6,
   "id": "7e45bacc",
   "metadata": {},
   "outputs": [],
   "source": [
    "# Raw Package\n",
    "import numpy as np\n",
    "import pandas as pd\n",
    "\n",
    "#Data Source\n",
    "import yfinance as yf\n",
    "\n",
    "#Data viz\n",
    "import plotly.graph_objs as go"
   ]
  },
  {
   "cell_type": "code",
   "execution_count": 27,
   "id": "d8578423",
   "metadata": {},
   "outputs": [
    {
     "name": "stdout",
     "output_type": "stream",
     "text": [
      "[*********************100%***********************]  1 of 1 completed\n",
      "\n",
      "1 Failed download:\n",
      "- ^NSEBANK: 15m data not available for startTime=1420050600 and endTime=1422815400. The requested range must be within the last 60 days.\n"
     ]
    }
   ],
   "source": [
    "data = yf.download(tickers='^NSEBANK', start=\"2015-01-01\", end=\"2015-02-02\", interval='15m',group_by=\"ticker\")\n",
    "#Print data\n",
    "path_to_write_csv = \"D:\\ShareMarket\\Data\\Banknifty_10year_5min.csv\"\n",
    "\n",
    "data.to_csv(path_to_write_csv)\n"
   ]
  },
  {
   "cell_type": "code",
   "execution_count": 15,
   "id": "801f0852",
   "metadata": {},
   "outputs": [
    {
     "data": {
      "text/html": [
       "<div>\n",
       "<style scoped>\n",
       "    .dataframe tbody tr th:only-of-type {\n",
       "        vertical-align: middle;\n",
       "    }\n",
       "\n",
       "    .dataframe tbody tr th {\n",
       "        vertical-align: top;\n",
       "    }\n",
       "\n",
       "    .dataframe thead th {\n",
       "        text-align: right;\n",
       "    }\n",
       "</style>\n",
       "<table border=\"1\" class=\"dataframe\">\n",
       "  <thead>\n",
       "    <tr style=\"text-align: right;\">\n",
       "      <th></th>\n",
       "      <th>Open</th>\n",
       "      <th>High</th>\n",
       "      <th>Low</th>\n",
       "      <th>Close</th>\n",
       "      <th>Adj Close</th>\n",
       "      <th>Volume</th>\n",
       "    </tr>\n",
       "    <tr>\n",
       "      <th>Datetime</th>\n",
       "      <th></th>\n",
       "      <th></th>\n",
       "      <th></th>\n",
       "      <th></th>\n",
       "      <th></th>\n",
       "      <th></th>\n",
       "    </tr>\n",
       "  </thead>\n",
       "  <tbody>\n",
       "    <tr>\n",
       "      <th>2022-01-10 09:15:00+05:30</th>\n",
       "      <td>37930.550781</td>\n",
       "      <td>38221.050781</td>\n",
       "      <td>37930.550781</td>\n",
       "      <td>38006.351562</td>\n",
       "      <td>38006.351562</td>\n",
       "      <td>0</td>\n",
       "    </tr>\n",
       "    <tr>\n",
       "      <th>2022-01-10 09:30:00+05:30</th>\n",
       "      <td>38000.898438</td>\n",
       "      <td>38181.699219</td>\n",
       "      <td>37998.351562</td>\n",
       "      <td>38117.148438</td>\n",
       "      <td>38117.148438</td>\n",
       "      <td>0</td>\n",
       "    </tr>\n",
       "    <tr>\n",
       "      <th>2022-01-10 09:45:00+05:30</th>\n",
       "      <td>38111.500000</td>\n",
       "      <td>38180.300781</td>\n",
       "      <td>38097.351562</td>\n",
       "      <td>38171.699219</td>\n",
       "      <td>38171.699219</td>\n",
       "      <td>0</td>\n",
       "    </tr>\n",
       "    <tr>\n",
       "      <th>2022-01-10 10:00:00+05:30</th>\n",
       "      <td>38173.898438</td>\n",
       "      <td>38249.851562</td>\n",
       "      <td>38173.898438</td>\n",
       "      <td>38232.699219</td>\n",
       "      <td>38232.699219</td>\n",
       "      <td>0</td>\n",
       "    </tr>\n",
       "    <tr>\n",
       "      <th>2022-01-10 10:15:00+05:30</th>\n",
       "      <td>38231.949219</td>\n",
       "      <td>38260.550781</td>\n",
       "      <td>38114.500000</td>\n",
       "      <td>38172.898438</td>\n",
       "      <td>38172.898438</td>\n",
       "      <td>0</td>\n",
       "    </tr>\n",
       "    <tr>\n",
       "      <th>...</th>\n",
       "      <td>...</td>\n",
       "      <td>...</td>\n",
       "      <td>...</td>\n",
       "      <td>...</td>\n",
       "      <td>...</td>\n",
       "      <td>...</td>\n",
       "    </tr>\n",
       "    <tr>\n",
       "      <th>2022-01-14 14:15:00+05:30</th>\n",
       "      <td>38317.398438</td>\n",
       "      <td>38349.601562</td>\n",
       "      <td>38274.949219</td>\n",
       "      <td>38319.500000</td>\n",
       "      <td>38319.500000</td>\n",
       "      <td>0</td>\n",
       "    </tr>\n",
       "    <tr>\n",
       "      <th>2022-01-14 14:30:00+05:30</th>\n",
       "      <td>38317.851562</td>\n",
       "      <td>38327.949219</td>\n",
       "      <td>38285.300781</td>\n",
       "      <td>38302.949219</td>\n",
       "      <td>38302.949219</td>\n",
       "      <td>0</td>\n",
       "    </tr>\n",
       "    <tr>\n",
       "      <th>2022-01-14 14:45:00+05:30</th>\n",
       "      <td>38301.550781</td>\n",
       "      <td>38358.851562</td>\n",
       "      <td>38300.550781</td>\n",
       "      <td>38339.949219</td>\n",
       "      <td>38339.949219</td>\n",
       "      <td>0</td>\n",
       "    </tr>\n",
       "    <tr>\n",
       "      <th>2022-01-14 15:00:00+05:30</th>\n",
       "      <td>38338.851562</td>\n",
       "      <td>38446.500000</td>\n",
       "      <td>38338.851562</td>\n",
       "      <td>38378.300781</td>\n",
       "      <td>38378.300781</td>\n",
       "      <td>0</td>\n",
       "    </tr>\n",
       "    <tr>\n",
       "      <th>2022-01-14 15:15:00+05:30</th>\n",
       "      <td>38377.898438</td>\n",
       "      <td>38385.601562</td>\n",
       "      <td>38304.949219</td>\n",
       "      <td>38312.800781</td>\n",
       "      <td>38312.800781</td>\n",
       "      <td>0</td>\n",
       "    </tr>\n",
       "  </tbody>\n",
       "</table>\n",
       "<p>125 rows × 6 columns</p>\n",
       "</div>"
      ],
      "text/plain": [
       "                                   Open          High           Low  \\\n",
       "Datetime                                                              \n",
       "2022-01-10 09:15:00+05:30  37930.550781  38221.050781  37930.550781   \n",
       "2022-01-10 09:30:00+05:30  38000.898438  38181.699219  37998.351562   \n",
       "2022-01-10 09:45:00+05:30  38111.500000  38180.300781  38097.351562   \n",
       "2022-01-10 10:00:00+05:30  38173.898438  38249.851562  38173.898438   \n",
       "2022-01-10 10:15:00+05:30  38231.949219  38260.550781  38114.500000   \n",
       "...                                 ...           ...           ...   \n",
       "2022-01-14 14:15:00+05:30  38317.398438  38349.601562  38274.949219   \n",
       "2022-01-14 14:30:00+05:30  38317.851562  38327.949219  38285.300781   \n",
       "2022-01-14 14:45:00+05:30  38301.550781  38358.851562  38300.550781   \n",
       "2022-01-14 15:00:00+05:30  38338.851562  38446.500000  38338.851562   \n",
       "2022-01-14 15:15:00+05:30  38377.898438  38385.601562  38304.949219   \n",
       "\n",
       "                                  Close     Adj Close  Volume  \n",
       "Datetime                                                       \n",
       "2022-01-10 09:15:00+05:30  38006.351562  38006.351562       0  \n",
       "2022-01-10 09:30:00+05:30  38117.148438  38117.148438       0  \n",
       "2022-01-10 09:45:00+05:30  38171.699219  38171.699219       0  \n",
       "2022-01-10 10:00:00+05:30  38232.699219  38232.699219       0  \n",
       "2022-01-10 10:15:00+05:30  38172.898438  38172.898438       0  \n",
       "...                                 ...           ...     ...  \n",
       "2022-01-14 14:15:00+05:30  38319.500000  38319.500000       0  \n",
       "2022-01-14 14:30:00+05:30  38302.949219  38302.949219       0  \n",
       "2022-01-14 14:45:00+05:30  38339.949219  38339.949219       0  \n",
       "2022-01-14 15:00:00+05:30  38378.300781  38378.300781       0  \n",
       "2022-01-14 15:15:00+05:30  38312.800781  38312.800781       0  \n",
       "\n",
       "[125 rows x 6 columns]"
      ]
     },
     "execution_count": 15,
     "metadata": {},
     "output_type": "execute_result"
    }
   ],
   "source": [
    "data"
   ]
  },
  {
   "cell_type": "code",
   "execution_count": null,
   "id": "a9cad52d",
   "metadata": {},
   "outputs": [],
   "source": []
  }
 ],
 "metadata": {
  "kernelspec": {
   "display_name": "Python 3",
   "language": "python",
   "name": "python3"
  },
  "language_info": {
   "codemirror_mode": {
    "name": "ipython",
    "version": 3
   },
   "file_extension": ".py",
   "mimetype": "text/x-python",
   "name": "python",
   "nbconvert_exporter": "python",
   "pygments_lexer": "ipython3",
   "version": "3.9.4"
  }
 },
 "nbformat": 4,
 "nbformat_minor": 5
}
